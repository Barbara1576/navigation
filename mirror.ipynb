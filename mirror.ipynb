{
 "cells": [
  {
   "cell_type": "markdown",
   "id": "6be61f63",
   "metadata": {},
   "source": [
    "зеркальное отображение меток, чтобы они совпадали с картами траектории"
   ]
  },
  {
   "cell_type": "code",
   "execution_count": 1,
   "id": "c273d04c",
   "metadata": {},
   "outputs": [],
   "source": [
    "from PIL import Image\n",
    "import os"
   ]
  },
  {
   "cell_type": "code",
   "execution_count": 21,
   "id": "0fba3823",
   "metadata": {},
   "outputs": [
    {
     "name": "stdout",
     "output_type": "stream",
     "text": [
      "['orig_3.png', 'orig_5.png', 'orig_6.png', 'orig_7.png', 'orig_9.1.png', 'orig_9.2.png'] 6\n"
     ]
    }
   ],
   "source": [
    "\n",
    "dire = 'C:\\\\Users\\\\Lenovo\\\\1navigation\\\\orig'\n",
    "dir_list = os.listdir(dire)\n",
    "#dir_list.remove('desktop.ini')\n",
    "print(dir_list, len(dir_list))"
   ]
  },
  {
   "cell_type": "code",
   "execution_count": 23,
   "id": "23f59558",
   "metadata": {},
   "outputs": [
    {
     "name": "stderr",
     "output_type": "stream",
     "text": [
      "C:\\Users\\Lenovo\\AppData\\Local\\Temp\\ipykernel_2696\\3947965302.py:3: DeprecationWarning: FLIP_LEFT_RIGHT is deprecated and will be removed in Pillow 10 (2023-07-01). Use Transpose.FLIP_LEFT_RIGHT instead.\n",
      "  image = image.rotate(180).transpose(Image.FLIP_LEFT_RIGHT)\n"
     ]
    }
   ],
   "source": [
    "for i in dir_list:\n",
    "    image = Image.open(dire + '\\\\' + i)\n",
    "    image = image.rotate(180).transpose(Image.FLIP_LEFT_RIGHT)\n",
    "    image.save(dire+'\\\\kk' + i)"
   ]
  },
  {
   "cell_type": "code",
   "execution_count": 24,
   "id": "be042294",
   "metadata": {},
   "outputs": [
    {
     "name": "stdout",
     "output_type": "stream",
     "text": [
      "['mark_3.png', 'mark_5.PNG', 'mark_6.PNG', 'mark_7.PNG', 'mark_9.1.PNG', 'mark_9.2.PNG'] 6\n"
     ]
    }
   ],
   "source": [
    "dire = 'C:\\\\Users\\\\Lenovo\\\\1navigation\\\\marks'\n",
    "dir_list = os.listdir(dire)\n",
    "#dir_list.remove('desktop.ini')\n",
    "print(dir_list, len(dir_list))"
   ]
  },
  {
   "cell_type": "code",
   "execution_count": 25,
   "id": "4e61bdc5",
   "metadata": {},
   "outputs": [
    {
     "name": "stderr",
     "output_type": "stream",
     "text": [
      "C:\\Users\\Lenovo\\AppData\\Local\\Temp\\ipykernel_2696\\3947965302.py:3: DeprecationWarning: FLIP_LEFT_RIGHT is deprecated and will be removed in Pillow 10 (2023-07-01). Use Transpose.FLIP_LEFT_RIGHT instead.\n",
      "  image = image.rotate(180).transpose(Image.FLIP_LEFT_RIGHT)\n"
     ]
    }
   ],
   "source": [
    "for i in dir_list:\n",
    "    image = Image.open(dire + '\\\\' + i)\n",
    "    image = image.rotate(180).transpose(Image.FLIP_LEFT_RIGHT)\n",
    "    image.save(dire+'\\\\kk' + i)"
   ]
  },
  {
   "cell_type": "markdown",
   "id": "25a98ed3",
   "metadata": {},
   "source": [
    "### Черновик"
   ]
  },
  {
   "cell_type": "code",
   "execution_count": 15,
   "id": "64b8040f",
   "metadata": {},
   "outputs": [
    {
     "name": "stderr",
     "output_type": "stream",
     "text": [
      "C:\\Users\\Lenovo\\AppData\\Local\\Temp\\ipykernel_2696\\2660137664.py:2: DeprecationWarning: FLIP_TOP_BOTTOM is deprecated and will be removed in Pillow 10 (2023-07-01). Use Transpose.FLIP_TOP_BOTTOM instead.\n",
      "  image = image.rotate(270).transpose(Image.FLIP_TOP_BOTTOM)\n"
     ]
    }
   ],
   "source": [
    "#это работает правильно\n",
    "image = Image.open('orig_3.png')\n",
    "image = image.rotate(270).transpose(Image.FLIP_TOP_BOTTOM)\n",
    "image = image.rotate(270)\n",
    "image.save('orig_3_new.png')"
   ]
  },
  {
   "cell_type": "code",
   "execution_count": 16,
   "id": "9849dec1",
   "metadata": {},
   "outputs": [
    {
     "name": "stderr",
     "output_type": "stream",
     "text": [
      "C:\\Users\\Lenovo\\AppData\\Local\\Temp\\ipykernel_2696\\1539112415.py:3: DeprecationWarning: FLIP_LEFT_RIGHT is deprecated and will be removed in Pillow 10 (2023-07-01). Use Transpose.FLIP_LEFT_RIGHT instead.\n",
      "  image = image.rotate(180).transpose(Image.FLIP_LEFT_RIGHT)\n"
     ]
    }
   ],
   "source": [
    "#это вроде тоже работает правильно\n",
    "image = Image.open('orig_3.png')\n",
    "image = image.rotate(180).transpose(Image.FLIP_LEFT_RIGHT)\n",
    "image.save('orig_3kk.png')"
   ]
  },
  {
   "cell_type": "code",
   "execution_count": 12,
   "id": "a7b7f1c9",
   "metadata": {},
   "outputs": [],
   "source": [
    "image.show()"
   ]
  }
 ],
 "metadata": {
  "kernelspec": {
   "display_name": "navigation",
   "language": "python",
   "name": "navigation"
  },
  "language_info": {
   "codemirror_mode": {
    "name": "ipython",
    "version": 3
   },
   "file_extension": ".py",
   "mimetype": "text/x-python",
   "name": "python",
   "nbconvert_exporter": "python",
   "pygments_lexer": "ipython3",
   "version": "3.9.15"
  }
 },
 "nbformat": 4,
 "nbformat_minor": 5
}
