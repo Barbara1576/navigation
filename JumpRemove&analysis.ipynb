{
 "cells": [
  {
   "cell_type": "markdown",
   "id": "44f77baf",
   "metadata": {},
   "source": [
    "##### это файл со старым вариантом анимации траекторий - не очень красиво, но удобно"
   ]
  },
  {
   "cell_type": "code",
   "execution_count": 6,
   "id": "ce9e788d",
   "metadata": {},
   "outputs": [],
   "source": [
    "import traja\n",
    "import pandas as pd\n",
    "import seaborn as sns\n",
    "import numpy as np\n",
    "import matplotlib\n",
    "import matplotlib.pyplot as plt\n",
    "from scipy.ndimage import gaussian_filter\n",
    "from scipy import stats\n",
    "from scipy.ndimage import gaussian_filter1d\n",
    "\n",
    "\n",
    "import numpy as np\n",
    "import matplotlib.pyplot as plt\n",
    "from matplotlib.animation import FuncAnimation\n",
    "import pandas as pd"
   ]
  },
  {
   "cell_type": "code",
   "execution_count": 7,
   "id": "5c6a4c6c",
   "metadata": {},
   "outputs": [],
   "source": [
    "def openFile(ff):\n",
    "    df = pd.read_csv(ff, sep=\" \",header = None, names=['numb', 'time', 'x', 'y'])\n",
    "    df = df.drop('numb', axis=1)\n",
    "    df = df.drop(df[df.time > 1755].index)\n",
    "    df = df[(np.abs(stats.zscore(df)) < 3).all(axis=1)]\n",
    "    df.traja.plot()\n",
    "    return(df)"
   ]
  },
  {
   "cell_type": "code",
   "execution_count": 8,
   "id": "bb59fc12",
   "metadata": {},
   "outputs": [],
   "source": [
    "def cutjump(df, xmax, xmin, ymax, ymin):\n",
    "    dff = df[(df['x'] < xmax) & (df['x'] > xmin) & (df['y'] < ymax) & (df['y'] > ymin)]\n",
    "    ind = range(0, len(dff))\n",
    "    dff = dff.reindex(ind)\n",
    "    dff.traja.plot()\n",
    "    return dff"
   ]
  },
  {
   "cell_type": "code",
   "execution_count": 4,
   "id": "982e2738",
   "metadata": {},
   "outputs": [],
   "source": [
    "%matplotlib inline"
   ]
  },
  {
   "cell_type": "markdown",
   "id": "1b9da364",
   "metadata": {},
   "source": [
    "### traj draw moving - вообще этот блое должен запускаться после \"открываем файлы удаляем прыжки\""
   ]
  },
  {
   "cell_type": "code",
   "execution_count": 9,
   "id": "1f7bbceb",
   "metadata": {},
   "outputs": [
    {
     "name": "stdout",
     "output_type": "stream",
     "text": [
      "Using matplotlib backend: Qt5Agg\n"
     ]
    }
   ],
   "source": [
    "%matplotlib"
   ]
  },
  {
   "cell_type": "code",
   "execution_count": 5,
   "id": "fbadb607",
   "metadata": {},
   "outputs": [
    {
     "ename": "NameError",
     "evalue": "name 'tr5' is not defined",
     "output_type": "error",
     "traceback": [
      "\u001b[1;31m---------------------------------------------------------------------------\u001b[0m",
      "\u001b[1;31mNameError\u001b[0m                                 Traceback (most recent call last)",
      "Cell \u001b[1;32mIn[5], line 3\u001b[0m\n\u001b[0;32m      1\u001b[0m \u001b[38;5;66;03m#просто рисунок траектории\u001b[39;00m\n\u001b[1;32m----> 3\u001b[0m ax\u001b[38;5;241m=\u001b[39m \u001b[43mtr5\u001b[49m\u001b[38;5;241m.\u001b[39mplot(\u001b[38;5;124m\"\u001b[39m\u001b[38;5;124mx\u001b[39m\u001b[38;5;124m\"\u001b[39m, \u001b[38;5;124m\"\u001b[39m\u001b[38;5;124my\u001b[39m\u001b[38;5;124m\"\u001b[39m, color\u001b[38;5;241m=\u001b[39m\u001b[38;5;124m\"\u001b[39m\u001b[38;5;124mr\u001b[39m\u001b[38;5;124m\"\u001b[39m)\n\u001b[0;32m      4\u001b[0m ax\u001b[38;5;241m.\u001b[39mset_title(\u001b[38;5;124m'\u001b[39m\u001b[38;5;124mmean trajectory\u001b[39m\u001b[38;5;124m'\u001b[39m)\n",
      "\u001b[1;31mNameError\u001b[0m: name 'tr5' is not defined"
     ]
    }
   ],
   "source": [
    "#просто рисунок траектории\n",
    "\n",
    "ax= tr5.plot(\"x\", \"y\", color=\"r\")\n",
    "ax.set_title('mean trajectory')"
   ]
  },
  {
   "cell_type": "code",
   "execution_count": 11,
   "id": "64a35fc1",
   "metadata": {},
   "outputs": [
    {
     "ename": "NameError",
     "evalue": "name 'df' is not defined",
     "output_type": "error",
     "traceback": [
      "\u001b[1;31m---------------------------------------------------------------------------\u001b[0m",
      "\u001b[1;31mNameError\u001b[0m                                 Traceback (most recent call last)",
      "Cell \u001b[1;32mIn[11], line 2\u001b[0m\n\u001b[0;32m      1\u001b[0m fig, ax \u001b[38;5;241m=\u001b[39m plt\u001b[38;5;241m.\u001b[39msubplots(figsize\u001b[38;5;241m=\u001b[39m(\u001b[38;5;241m5\u001b[39m, \u001b[38;5;241m5\u001b[39m))\n\u001b[1;32m----> 2\u001b[0m ax\u001b[38;5;241m.\u001b[39mset_xlim(\u001b[43mdf\u001b[49m[\u001b[38;5;124m\"\u001b[39m\u001b[38;5;124mx\u001b[39m\u001b[38;5;124m\"\u001b[39m]\u001b[38;5;241m.\u001b[39mmin() \u001b[38;5;241m-\u001b[39m \u001b[38;5;241m2\u001b[39m, df[\u001b[38;5;124m\"\u001b[39m\u001b[38;5;124mx\u001b[39m\u001b[38;5;124m\"\u001b[39m]\u001b[38;5;241m.\u001b[39mmax() \u001b[38;5;241m+\u001b[39m \u001b[38;5;241m2\u001b[39m)\n\u001b[0;32m      3\u001b[0m ax\u001b[38;5;241m.\u001b[39mset_ylim(df[\u001b[38;5;124m\"\u001b[39m\u001b[38;5;124my\u001b[39m\u001b[38;5;124m\"\u001b[39m]\u001b[38;5;241m.\u001b[39mmin() \u001b[38;5;241m-\u001b[39m \u001b[38;5;241m2\u001b[39m, df[\u001b[38;5;124m\"\u001b[39m\u001b[38;5;124my\u001b[39m\u001b[38;5;124m\"\u001b[39m]\u001b[38;5;241m.\u001b[39mmax() \u001b[38;5;241m+\u001b[39m \u001b[38;5;241m2\u001b[39m)\n\u001b[0;32m      4\u001b[0m plt\u001b[38;5;241m.\u001b[39mplot(tr5[\u001b[38;5;124m'\u001b[39m\u001b[38;5;124mx\u001b[39m\u001b[38;5;124m'\u001b[39m], tr5[\u001b[38;5;124m'\u001b[39m\u001b[38;5;124my\u001b[39m\u001b[38;5;124m'\u001b[39m])\n",
      "\u001b[1;31mNameError\u001b[0m: name 'df' is not defined"
     ]
    }
   ],
   "source": [
    "fig, ax = plt.subplots(figsize=(5, 5))\n",
    "ax.set_xlim(df[\"x\"].min() - 2, df[\"x\"].max() + 2)\n",
    "ax.set_ylim(df[\"y\"].min() - 2, df[\"y\"].max() + 2)\n",
    "plt.plot(tr5['x'], tr5['y'])"
   ]
  },
  {
   "cell_type": "code",
   "execution_count": 12,
   "id": "a090ed49",
   "metadata": {},
   "outputs": [
    {
     "data": {
      "text/plain": [
       "0     1.001\n",
       "1     1.034\n",
       "2     1.068\n",
       "3     1.101\n",
       "4     1.134\n",
       "      ...  \n",
       "95    4.171\n",
       "96    4.204\n",
       "97    4.238\n",
       "98    4.271\n",
       "99    4.304\n",
       "Name: time, Length: 100, dtype: float64"
      ]
     },
     "execution_count": 12,
     "metadata": {},
     "output_type": "execute_result"
    }
   ],
   "source": [
    "tr5.iloc[0:100,0]"
   ]
  },
  {
   "cell_type": "code",
   "execution_count": 13,
   "id": "201eccbf",
   "metadata": {},
   "outputs": [],
   "source": [
    "#не работает\n",
    "def update(i, df):\n",
    "    \"\"\"\n",
    "    updates the plot for each animation frame\n",
    "    \"\"\"\n",
    "    if i < 3000:\n",
    "        ln.set_data(df.iloc[0:i, 0], df.iloc[0:i, 1])\n",
    "    else:\n",
    "        ln.set_data(df.iloc[i-3000:i, 0], df.iloc[i-3000:i, 1])\n",
    "    return ln,\n",
    "\n",
    "def animate(df):\n",
    "\n",
    "    df = pd.DataFrame(df, columns=[\"x\", \"y\"])\n",
    "\n",
    "    # plot setup\n",
    "    fig, ax = plt.subplots(figsize=(6, 6))\n",
    "    ax.set_xlim(df[\"x\"].min() - 2, df[\"x\"].max() + 2)\n",
    "    ax.set_ylim(df[\"y\"].min() - 2, df[\"y\"].max() + 2)\n",
    "    xdata, ydata = [], []\n",
    "    ln, = plt.plot([], [], 'b*')\n",
    "    # animate the plot\n",
    "    ani = FuncAnimation(fig, \n",
    "                        update, \n",
    "                        frames=len(df), \n",
    "                        interval=0.01, # delay of each frame in miliseconds\n",
    "                        save_count=10,\n",
    "                        blit=True)\n",
    "    plt.show()\n",
    "\n",
    "\n"
   ]
  },
  {
   "cell_type": "code",
   "execution_count": 14,
   "id": "e4dd7a43",
   "metadata": {},
   "outputs": [],
   "source": [
    "# a sample dataframe  with coordinates of random movement\n",
    "#xy = np.random.normal(0, 1, (100, 2)).cumsum(axis=0)\n",
    "df = pd.DataFrame(tr5, columns=[\"x\", \"y\"])\n",
    "\n",
    "# plot setup\n",
    "fig, ax = plt.subplots(figsize=(6, 6))\n",
    "ax.set_xlim(df[\"x\"].min() - 2, df[\"x\"].max() + 2)\n",
    "ax.set_ylim(df[\"y\"].min() - 2, df[\"y\"].max() + 2)\n",
    "xdata, ydata = [], []\n",
    "ln, = plt.plot([], [], 'b*')\n",
    "\n",
    "def update(i):\n",
    "    \"\"\"\n",
    "    updates the plot for each animation frame\n",
    "    \"\"\"\n",
    "    if i < 3000:\n",
    "        ln.set_data(df.iloc[0:i, 0], df.iloc[0:i, 1])\n",
    "    else:\n",
    "        ln.set_data(df.iloc[i-3000:i, 0], df.iloc[i-3000:i, 1])\n",
    "    return ln,\n",
    "\n",
    "# animate the plot\n",
    "ani = FuncAnimation(fig, \n",
    "                    update, \n",
    "                    frames=len(df), \n",
    "                    interval=0.01, # delay of each frame in miliseconds\n",
    "                    save_count=10,\n",
    "                    blit=True)\n",
    "plt.show()"
   ]
  },
  {
   "cell_type": "code",
   "execution_count": 58,
   "id": "cfa347ea",
   "metadata": {},
   "outputs": [],
   "source": [
    "# a sample dataframe  with coordinates of random movement\n",
    "df = pd.DataFrame(tr3, columns=[\"x\", \"y\"])\n",
    "\n",
    "# plot setup\n",
    "fig, ax = plt.subplots(figsize=(6, 6))\n",
    "ax.set_xlim(df[\"x\"].min() - 2, df[\"x\"].max() + 2)\n",
    "ax.set_ylim(df[\"y\"].min() - 2, df[\"y\"].max() + 2)\n",
    "xdata, ydata = [], []\n",
    "ln, = plt.plot([], [], 'b*')\n",
    "\n",
    "def update(i):\n",
    "    \"\"\"\n",
    "    updates the plot for each animation frame\n",
    "    \"\"\"\n",
    "    if i < 3000:\n",
    "        ln.set_data(df.iloc[0:i, 0], df.iloc[0:i, 1])\n",
    "    else:\n",
    "        ln.set_data(df.iloc[i-3000:i, 0], df.iloc[i-3000:i, 1])\n",
    "    return ln,\n",
    "\n",
    "# animate the plot\n",
    "ani = FuncAnimation(fig, \n",
    "                    update, \n",
    "                    frames=len(df), \n",
    "                    interval=0.01, # delay of each frame in miliseconds\n",
    "                    save_count=10,\n",
    "                    blit=True)\n",
    "plt.show()"
   ]
  },
  {
   "cell_type": "code",
   "execution_count": 59,
   "id": "a469b082",
   "metadata": {},
   "outputs": [],
   "source": [
    "# a sample dataframe  with coordinates of random movement\n",
    "#xy = np.random.normal(0, 1, (100, 2)).cumsum(axis=0)\n",
    "df = pd.DataFrame(tr4, columns=[\"x\", \"y\"])\n",
    "\n",
    "# plot setup\n",
    "fig, ax = plt.subplots(figsize=(6, 6))\n",
    "ax.set_xlim(df[\"x\"].min() - 2, df[\"x\"].max() + 2)\n",
    "ax.set_ylim(df[\"y\"].min() - 2, df[\"y\"].max() + 2)\n",
    "xdata, ydata = [], []\n",
    "ln, = plt.plot([], [], 'b*')\n",
    "\n",
    "def update(i):\n",
    "    \"\"\"\n",
    "    updates the plot for each animation frame\n",
    "    \"\"\"\n",
    "    if i < 3000:\n",
    "        ln.set_data(df.iloc[0:i, 0], df.iloc[0:i, 1])\n",
    "    else:\n",
    "        ln.set_data(df.iloc[i-3000:i, 0], df.iloc[i-3000:i, 1])\n",
    "    return ln,\n",
    "\n",
    "# animate the plot\n",
    "ani = FuncAnimation(fig, \n",
    "                    update, \n",
    "                    frames=len(df), \n",
    "                    interval=0.01, # delay of each frame in miliseconds\n",
    "                    save_count=10,\n",
    "                    blit=True)\n",
    "plt.show()"
   ]
  },
  {
   "cell_type": "code",
   "execution_count": 60,
   "id": "18d1a277",
   "metadata": {},
   "outputs": [],
   "source": [
    "# a sample dataframe  with coordinates of random movement\n",
    "#xy = np.random.normal(0, 1, (100, 2)).cumsum(axis=0)\n",
    "df = pd.DataFrame(tr6, columns=[\"x\", \"y\"])\n",
    "\n",
    "# plot setup\n",
    "fig, ax = plt.subplots(figsize=(6, 6))\n",
    "ax.set_xlim(df[\"x\"].min() - 2, df[\"x\"].max() + 2)\n",
    "ax.set_ylim(df[\"y\"].min() - 2, df[\"y\"].max() + 2)\n",
    "xdata, ydata = [], []\n",
    "ln, = plt.plot([], [], 'b*')\n",
    "\n",
    "def update(i):\n",
    "    \"\"\"\n",
    "    updates the plot for each animation frame\n",
    "    \"\"\"\n",
    "    if i < 3000:\n",
    "        ln.set_data(df.iloc[0:i, 0], df.iloc[0:i, 1])\n",
    "    else:\n",
    "        ln.set_data(df.iloc[i-3000:i, 0], df.iloc[i-3000:i, 1])\n",
    "    return ln,\n",
    "\n",
    "# animate the plot\n",
    "ani = FuncAnimation(fig, \n",
    "                    update, \n",
    "                    frames=len(df), \n",
    "                    interval=0.01, # delay of each frame in miliseconds\n",
    "                    save_count=10,\n",
    "                    blit=True)\n",
    "plt.show()"
   ]
  },
  {
   "cell_type": "code",
   "execution_count": 61,
   "id": "12f31906",
   "metadata": {},
   "outputs": [],
   "source": [
    "# a sample dataframe  with coordinates of random movement\n",
    "#xy = np.random.normal(0, 1, (100, 2)).cumsum(axis=0)\n",
    "df = pd.DataFrame(tr7, columns=[\"x\", \"y\"])\n",
    "\n",
    "# plot setup\n",
    "fig, ax = plt.subplots(figsize=(6, 6))\n",
    "ax.set_xlim(df[\"x\"].min() - 2, df[\"x\"].max() + 2)\n",
    "ax.set_ylim(df[\"y\"].min() - 2, df[\"y\"].max() + 2)\n",
    "xdata, ydata = [], []\n",
    "ln, = plt.plot([], [], 'b*')\n",
    "\n",
    "def update(i):\n",
    "    \"\"\"\n",
    "    updates the plot for each animation frame\n",
    "    \"\"\"\n",
    "    if i < 3000:\n",
    "        ln.set_data(df.iloc[0:i, 0], df.iloc[0:i, 1])\n",
    "    else:\n",
    "        ln.set_data(df.iloc[i-3000:i, 0], df.iloc[i-3000:i, 1])\n",
    "    return ln,\n",
    "\n",
    "# animate the plot\n",
    "ani = FuncAnimation(fig, \n",
    "                    update, \n",
    "                    frames=len(df), \n",
    "                    interval=0.01, # delay of each frame in miliseconds\n",
    "                    save_count=10,\n",
    "                    blit=True)\n",
    "plt.show()"
   ]
  },
  {
   "cell_type": "code",
   "execution_count": 62,
   "id": "54247357",
   "metadata": {},
   "outputs": [],
   "source": [
    "# a sample dataframe  with coordinates of random movement\n",
    "#xy = np.random.normal(0, 1, (100, 2)).cumsum(axis=0)\n",
    "df = pd.DataFrame(tr91, columns=[\"x\", \"y\"])\n",
    "\n",
    "# plot setup\n",
    "fig, ax = plt.subplots(figsize=(6, 6))\n",
    "ax.set_xlim(df[\"x\"].min() - 2, df[\"x\"].max() + 2)\n",
    "ax.set_ylim(df[\"y\"].min() - 2, df[\"y\"].max() + 2)\n",
    "xdata, ydata = [], []\n",
    "ln, = plt.plot([], [], 'b*')\n",
    "\n",
    "def update(i):\n",
    "    \"\"\"\n",
    "    updates the plot for each animation frame\n",
    "    \"\"\"\n",
    "    if i < 3000:\n",
    "        ln.set_data(df.iloc[0:i, 0], df.iloc[0:i, 1])\n",
    "    else:\n",
    "        ln.set_data(df.iloc[i-3000:i, 0], df.iloc[i-3000:i, 1])\n",
    "    return ln,\n",
    "\n",
    "# animate the plot\n",
    "ani = FuncAnimation(fig, \n",
    "                    update, \n",
    "                    frames=len(df), \n",
    "                    interval=0.01, # delay of each frame in miliseconds\n",
    "                    save_count=10,\n",
    "                    blit=True)\n",
    "plt.show()"
   ]
  },
  {
   "cell_type": "code",
   "execution_count": 66,
   "id": "ba486a0b",
   "metadata": {},
   "outputs": [],
   "source": [
    "# a sample dataframe  with coordinates of random movement\n",
    "#xy = np.random.normal(0, 1, (100, 2)).cumsum(axis=0)\n",
    "df = pd.DataFrame(tr92, columns=[\"x\", \"y\"])\n",
    "\n",
    "# plot setup\n",
    "fig, ax = plt.subplots(figsize=(6, 6))\n",
    "ax.set_xlim(df[\"x\"].min() - 2, df[\"x\"].max() + 2)\n",
    "ax.set_ylim(df[\"y\"].min() - 2, df[\"y\"].max() + 2)\n",
    "xdata, ydata = [], []\n",
    "ln, = plt.plot([], [], 'b*')\n",
    "\n",
    "def update(i):\n",
    "    \"\"\"\n",
    "    updates the plot for each animation frame\n",
    "    \"\"\"\n",
    "    if i < 3000:\n",
    "        ln.set_data(df.iloc[0:i, 0], df.iloc[0:i, 1])\n",
    "    else:\n",
    "        ln.set_data(df.iloc[i-3000:i, 0], df.iloc[i-3000:i, 1])\n",
    "    return ln,\n",
    "\n",
    "# animate the plot\n",
    "ani = FuncAnimation(fig, \n",
    "                    update, \n",
    "                    frames=len(df), \n",
    "                    interval=0.01, # delay of each frame in miliseconds\n",
    "                    save_count=10,\n",
    "                    blit=True)\n",
    "plt.show()"
   ]
  },
  {
   "cell_type": "code",
   "execution_count": 64,
   "id": "500698b2",
   "metadata": {},
   "outputs": [],
   "source": [
    "# a sample dataframe  with coordinates of random movement\n",
    "#xy = np.random.normal(0, 1, (100, 2)).cumsum(axis=0)\n",
    "df = pd.DataFrame(tr1, columns=[\"x\", \"y\"])\n",
    "\n",
    "# plot setup\n",
    "fig, ax = plt.subplots(figsize=(6, 6))\n",
    "ax.set_xlim(df[\"x\"].min() - 2, df[\"x\"].max() + 2)\n",
    "ax.set_ylim(df[\"y\"].min() - 2, df[\"y\"].max() + 2)\n",
    "xdata, ydata = [], []\n",
    "ln, = plt.plot([], [], 'b*')\n",
    "\n",
    "def update(i):\n",
    "    \"\"\"\n",
    "    updates the plot for each animation frame\n",
    "    \"\"\"\n",
    "    if i < 3000:\n",
    "        ln.set_data(df.iloc[0:i, 0], df.iloc[0:i, 1])\n",
    "    else:\n",
    "        ln.set_data(df.iloc[i-3000:i, 0], df.iloc[i-3000:i, 1])\n",
    "    return ln,\n",
    "\n",
    "# animate the plot\n",
    "ani = FuncAnimation(fig, \n",
    "                    update, \n",
    "                    frames=len(df), \n",
    "                    interval=0.01, # delay of each frame in miliseconds\n",
    "                    save_count=10,\n",
    "                    blit=True)\n",
    "plt.show()"
   ]
  },
  {
   "cell_type": "code",
   "execution_count": 65,
   "id": "38deec38",
   "metadata": {},
   "outputs": [],
   "source": [
    "# a sample dataframe  with coordinates of random movement\n",
    "#xy = np.random.normal(0, 1, (100, 2)).cumsum(axis=0)\n",
    "df = pd.DataFrame(tr2, columns=[\"x\", \"y\"])\n",
    "\n",
    "# plot setup\n",
    "fig, ax = plt.subplots(figsize=(6, 6))\n",
    "ax.set_xlim(df[\"x\"].min() - 2, df[\"x\"].max() + 2)\n",
    "ax.set_ylim(df[\"y\"].min() - 2, df[\"y\"].max() + 2)\n",
    "xdata, ydata = [], []\n",
    "ln, = plt.plot([], [], 'b*')\n",
    "\n",
    "def update(i):\n",
    "    \"\"\"\n",
    "    updates the plot for each animation frame\n",
    "    \"\"\"\n",
    "    if i < 3000:\n",
    "        ln.set_data(df.iloc[0:i, 0], df.iloc[0:i, 1])\n",
    "    else:\n",
    "        ln.set_data(df.iloc[i-3000:i, 0], df.iloc[i-3000:i, 1])\n",
    "    return ln,\n",
    "\n",
    "# animate the plot\n",
    "ani = FuncAnimation(fig, \n",
    "                    update, \n",
    "                    frames=len(df), \n",
    "                    interval=0.01, # delay of each frame in miliseconds\n",
    "                    save_count=10,\n",
    "                    blit=True)\n",
    "plt.show()"
   ]
  },
  {
   "cell_type": "markdown",
   "id": "fe11847c",
   "metadata": {},
   "source": [
    "## открываем файлы удаляем прыжки"
   ]
  },
  {
   "cell_type": "code",
   "execution_count": 6,
   "id": "d3dbb6ab",
   "metadata": {},
   "outputs": [],
   "source": [
    "tr4, tr3, tr5, tr6, tr7 = openFile('Trace_4.txt'), openFile('Trace_3.txt'), openFile('Trace_5.txt'), openFile('Trace_6.txt'), openFile('Trace_7.txt')\n",
    "tr91, tr92 = openFile('Trace_9.1.txt'), openFile('Trace_9.2.txt') \n",
    "tr1, tr2 = openFile('Trace_1.1.txt'), openFile('Trace_2.txt')"
   ]
  },
  {
   "cell_type": "code",
   "execution_count": 7,
   "id": "44ab0316",
   "metadata": {},
   "outputs": [],
   "source": [
    "tr4 = cutjump(tr4, xmax=40.4, xmin=-38.1, ymax=28.3, ymin=-47.6)\n",
    "tr3 = cutjump(tr3, xmax=46.8, xmin=-48, ymax=46, ymin=-47)\n",
    "tr6 = cutjump(tr6, xmax=45, xmin=-45, ymax=45, ymin=-42.2)\n",
    "tr7 = cutjump(tr7, xmax=35, xmin=-38.7, ymax=40, ymin=-32)\n",
    "tr91 = cutjump(tr91, xmax=42.5, xmin=-43.7, ymax=42.5, ymin=-42.7)\n",
    "tr92 = cutjump(tr92, xmax=36.3, xmin=-46.5, ymax=45.4, ymin=-47.3)"
   ]
  },
  {
   "cell_type": "code",
   "execution_count": 8,
   "id": "57ce03ee",
   "metadata": {},
   "outputs": [],
   "source": [
    "dfs = [tr4, tr3, tr5, tr6, tr7, tr91, tr92, tr1, tr2]\n",
    "names = ['tr4','tr3','tr5','tr6','tr7', 'tr91','tr92', 'tr1', 'tr2']"
   ]
  },
  {
   "cell_type": "code",
   "execution_count": 7,
   "id": "94b96fa0",
   "metadata": {},
   "outputs": [
    {
     "data": {
      "image/png": "[encoded data removed]",
      "text/plain": [
       "<Figure size 640x480 with 1 Axes>"
      ]
     },
     "metadata": {},
     "output_type": "display_data"
    },
    {
     "data": {
      "image/png": "[encoded data removed]",
      "text/plain": [
       "<Figure size 640x480 with 1 Axes>"
      ]
     },
     "metadata": {},
     "output_type": "display_data"
    },
    {
     "data": {
      "image/png": "[encoded data removed]",
      "text/plain": [
       "<Figure size 640x480 with 1 Axes>"
      ]
     },
     "metadata": {},
     "output_type": "display_data"
    },
    {
     "data": {
      "image/png": "[encoded data removed]",
      "text/plain": [
       "<Figure size 640x480 with 1 Axes>"
      ]
     },
     "metadata": {},
     "output_type": "display_data"
    },
    {
     "data": {
      "image/png": "[encoded data removed]",
      "text/plain": [
       "<Figure size 640x480 with 1 Axes>"
      ]
     },
     "metadata": {},
     "output_type": "display_data"
    },
    {
     "data": {
      "image/png": "[encoded data removed]",
      "text/plain": [
       "<Figure size 640x480 with 1 Axes>"
      ]
     },
     "metadata": {},
     "output_type": "display_data"
    },
    {
     "data": {
      "image/png": "[encoded data removed]",
      "text/plain": [
       "<Figure size 640x480 with 1 Axes>"
      ]
     },
     "metadata": {},
     "output_type": "display_data"
    },
    {
     "data": {
      "image/png": "[encoded data removed]",
      "text/plain": [
       "<Figure size 640x480 with 1 Axes>"
      ]
     },
     "metadata": {},
     "output_type": "display_data"
    },
    {
     "data": {
      "image/png": "[encoded data removed]",
      "text/plain": [
       "<Figure size 640x480 with 1 Axes>"
      ]
     },
     "metadata": {},
     "output_type": "display_data"
    }
   ],
   "source": [
    "for i in dfs:\n",
    "    plt.figure()\n",
    "    plt.plot(i['time'])"
   ]
  },
  {
   "cell_type": "markdown",
   "id": "0bc4854d",
   "metadata": {},
   "source": [
    "## скорости и векторные поля"
   ]
  },
  {
   "cell_type": "code",
   "execution_count": 81,
   "id": "1103eb0f",
   "metadata": {},
   "outputs": [],
   "source": [
    "def addFilteredV(df):\n",
    "    vx = []\n",
    "    vy = []\n",
    "    v = []\n",
    "    ind = range(0, len(df))\n",
    "    df = df.reindex(ind)\n",
    "    for i in range(len(df)):\n",
    "        if i == 0:\n",
    "            vx.append(0)\n",
    "            vy.append(0)\n",
    "            v.append(0)\n",
    "        else:\n",
    "            dx = df['x'][i]-df['x'][i-1]\n",
    "            dy = df['y'][i]-df['y'][i-1]\n",
    "            dt = df['time'][i]-df['time'][i-1]\n",
    "            vvx = dx/dt\n",
    "            vvy = dy/dt\n",
    "            vv = pow(pow(vvx, 2) + pow(vvy, 2), 0.5)\n",
    "            vx.append(vvx)\n",
    "            vy.append(vvy)\n",
    "            v.append(vv)\n",
    "    df.insert(3, \"Vx\", vx)\n",
    "    df.insert(4, \"Vy\", vy)\n",
    "    df.insert(5, \"V\", v)\n",
    "    df['V'] = pd.Series(gaussian_filter1d(df['V'], 5))\n",
    "    df['Vx'] = pd.Series(gaussian_filter1d(df['Vx'], 5))\n",
    "    df['Vy'] = pd.Series(gaussian_filter1d(df['Vy'], 5))\n",
    "    return(df)"
   ]
  },
  {
   "cell_type": "code",
   "execution_count": 87,
   "id": "a062b4a9",
   "metadata": {},
   "outputs": [],
   "source": [
    "for i in range(len(dfs)):\n",
    "    #print(names[n])\n",
    "    dfs[i] = addFilteredV(dfs[i])"
   ]
  },
  {
   "cell_type": "code",
   "execution_count": 83,
   "id": "b9846a3b",
   "metadata": {},
   "outputs": [
    {
     "data": {
      "text/plain": [
       "['tr4', 'tr3', 'tr5', 'tr6', 'tr7', 'tr91', 'tr92', 'tr1', 'tr2']"
      ]
     },
     "execution_count": 83,
     "metadata": {},
     "output_type": "execute_result"
    }
   ],
   "source": [
    "names"
   ]
  },
  {
   "cell_type": "code",
   "execution_count": 93,
   "id": "aa657c13",
   "metadata": {},
   "outputs": [
    {
     "data": {
      "text/html": [
       "<div>\n",
       "<style scoped>\n",
       "    .dataframe tbody tr th:only-of-type {\n",
       "        vertical-align: middle;\n",
       "    }\n",
       "\n",
       "    .dataframe tbody tr th {\n",
       "        vertical-align: top;\n",
       "    }\n",
       "\n",
       "    .dataframe thead th {\n",
       "        text-align: right;\n",
       "    }\n",
       "</style>\n",
       "<table border=\"1\" class=\"dataframe\">\n",
       "  <thead>\n",
       "    <tr style=\"text-align: right;\">\n",
       "      <th></th>\n",
       "      <th>time</th>\n",
       "      <th>x</th>\n",
       "      <th>y</th>\n",
       "      <th>Vx</th>\n",
       "      <th>Vy</th>\n",
       "      <th>V</th>\n",
       "    </tr>\n",
       "  </thead>\n",
       "  <tbody>\n",
       "    <tr>\n",
       "      <th>0</th>\n",
       "      <td>1.001</td>\n",
       "      <td>-3.409</td>\n",
       "      <td>-2.178</td>\n",
       "      <td>1.860094</td>\n",
       "      <td>0.000000</td>\n",
       "      <td>3.900901</td>\n",
       "    </tr>\n",
       "    <tr>\n",
       "      <th>1</th>\n",
       "      <td>1.134</td>\n",
       "      <td>-3.409</td>\n",
       "      <td>-2.178</td>\n",
       "      <td>1.903247</td>\n",
       "      <td>0.000000</td>\n",
       "      <td>4.041800</td>\n",
       "    </tr>\n",
       "    <tr>\n",
       "      <th>2</th>\n",
       "      <td>1.268</td>\n",
       "      <td>-3.409</td>\n",
       "      <td>-2.178</td>\n",
       "      <td>1.990265</td>\n",
       "      <td>0.000000</td>\n",
       "      <td>4.310515</td>\n",
       "    </tr>\n",
       "    <tr>\n",
       "      <th>3</th>\n",
       "      <td>1.401</td>\n",
       "      <td>-3.693</td>\n",
       "      <td>-1.231</td>\n",
       "      <td>2.122928</td>\n",
       "      <td>7.120301</td>\n",
       "      <td>4.683199</td>\n",
       "    </tr>\n",
       "    <tr>\n",
       "      <th>4</th>\n",
       "      <td>1.535</td>\n",
       "      <td>-3.599</td>\n",
       "      <td>-0.758</td>\n",
       "      <td>2.304476</td>\n",
       "      <td>3.529851</td>\n",
       "      <td>5.129647</td>\n",
       "    </tr>\n",
       "    <tr>\n",
       "      <th>...</th>\n",
       "      <td>...</td>\n",
       "      <td>...</td>\n",
       "      <td>...</td>\n",
       "      <td>...</td>\n",
       "      <td>...</td>\n",
       "      <td>...</td>\n",
       "    </tr>\n",
       "    <tr>\n",
       "      <th>6941</th>\n",
       "      <td>1750.882</td>\n",
       "      <td>-44.131</td>\n",
       "      <td>3.883</td>\n",
       "      <td>-0.061492</td>\n",
       "      <td>2.849624</td>\n",
       "      <td>3.169155</td>\n",
       "    </tr>\n",
       "    <tr>\n",
       "      <th>6942</th>\n",
       "      <td>1751.016</td>\n",
       "      <td>-44.037</td>\n",
       "      <td>4.262</td>\n",
       "      <td>0.129925</td>\n",
       "      <td>2.828358</td>\n",
       "      <td>3.104223</td>\n",
       "    </tr>\n",
       "    <tr>\n",
       "      <th>6943</th>\n",
       "      <td>1751.149</td>\n",
       "      <td>-44.131</td>\n",
       "      <td>4.356</td>\n",
       "      <td>0.246939</td>\n",
       "      <td>0.706767</td>\n",
       "      <td>3.080196</td>\n",
       "    </tr>\n",
       "    <tr>\n",
       "      <th>6944</th>\n",
       "      <td>1751.283</td>\n",
       "      <td>-44.984</td>\n",
       "      <td>4.072</td>\n",
       "      <td>0.310807</td>\n",
       "      <td>-2.119403</td>\n",
       "      <td>3.076428</td>\n",
       "    </tr>\n",
       "    <tr>\n",
       "      <th>6945</th>\n",
       "      <td>1751.950</td>\n",
       "      <td>-46.309</td>\n",
       "      <td>3.030</td>\n",
       "      <td>0.338219</td>\n",
       "      <td>-1.562219</td>\n",
       "      <td>3.078333</td>\n",
       "    </tr>\n",
       "  </tbody>\n",
       "</table>\n",
       "<p>6946 rows × 6 columns</p>\n",
       "</div>"
      ],
      "text/plain": [
       "          time       x      y        Vx        Vy         V\n",
       "0        1.001  -3.409 -2.178  1.860094  0.000000  3.900901\n",
       "1        1.134  -3.409 -2.178  1.903247  0.000000  4.041800\n",
       "2        1.268  -3.409 -2.178  1.990265  0.000000  4.310515\n",
       "3        1.401  -3.693 -1.231  2.122928  7.120301  4.683199\n",
       "4        1.535  -3.599 -0.758  2.304476  3.529851  5.129647\n",
       "...        ...     ...    ...       ...       ...       ...\n",
       "6941  1750.882 -44.131  3.883 -0.061492  2.849624  3.169155\n",
       "6942  1751.016 -44.037  4.262  0.129925  2.828358  3.104223\n",
       "6943  1751.149 -44.131  4.356  0.246939  0.706767  3.080196\n",
       "6944  1751.283 -44.984  4.072  0.310807 -2.119403  3.076428\n",
       "6945  1751.950 -46.309  3.030  0.338219 -1.562219  3.078333\n",
       "\n",
       "[6946 rows x 6 columns]"
      ]
     },
     "execution_count": 93,
     "metadata": {},
     "output_type": "execute_result"
    }
   ],
   "source": [
    "dfs[1]"
   ]
  },
  {
   "cell_type": "code",
   "execution_count": 94,
   "id": "df59270f",
   "metadata": {},
   "outputs": [
    {
     "data": {
      "text/plain": [
       "3.9646118721461185"
      ]
     },
     "execution_count": 94,
     "metadata": {},
     "output_type": "execute_result"
    }
   ],
   "source": [
    "len(dfs[1])/1752"
   ]
  },
  {
   "cell_type": "code",
   "execution_count": 95,
   "id": "e37e4612",
   "metadata": {},
   "outputs": [
    {
     "data": {
      "text/plain": [
       "[<matplotlib.lines.Line2D at 0x1ebd87370a0>]"
      ]
     },
     "execution_count": 95,
     "metadata": {},
     "output_type": "execute_result"
    }
   ],
   "source": [
    "plt.plot(dfs[1]['V'])"
   ]
  },
  {
   "cell_type": "code",
   "execution_count": null,
   "id": "ef2abe0c",
   "metadata": {},
   "outputs": [],
   "source": []
  },
  {
   "cell_type": "code",
   "execution_count": null,
   "id": "d3b90dba",
   "metadata": {},
   "outputs": [],
   "source": []
  },
  {
   "cell_type": "code",
   "execution_count": 85,
   "id": "44a024b9",
   "metadata": {},
   "outputs": [],
   "source": [
    "def buildVectorField(df, name):\n",
    "    binx = np.linspace(df[\"x\"].min() - 0.1, df[\"x\"].max() + 0.1, n+1)\n",
    "    x_cut = pd.cut(df.x, binx, right=False)\n",
    "    biny = np.linspace(df[\"y\"].min(), df[\"y\"].max(), n+1)\n",
    "    y_cut = pd.cut(df.y, biny, right=False)\n",
    "    dfn = df.groupby([x_cut, y_cut]).mean()\n",
    "    dfvx = pd.DataFrame(dfn.loc[:, 'Vx'])\n",
    "    dfvx = dfvx.unstack()\n",
    "    #print(dfvx)\n",
    "    dfvy = pd.DataFrame(dfn.loc[:, 'Vy'])\n",
    "    dfvy = dfvy.unstack()\n",
    "    forVect = []\n",
    "    for i in range(n):\n",
    "        kk = []\n",
    "        for j in range(n):\n",
    "            kk.append([binx[i],biny[j],dfvx.iloc[i][j],dfvy.iloc[i][j]])\n",
    "        forVect.append(kk)\n",
    "    Vectors = np.array(forVect)\n",
    "    print(Vectors.shape)\n",
    "    plt.figure()\n",
    "    for i in Vectors:\n",
    "        for j in i:\n",
    "            l = pow((pow(j[2], 2) + pow(j[3], 2)), 0.5)\n",
    "            print(j[2], j[3], l)\n",
    "            plt.quiver(j[0], j[1], j[2], j[3], color='y', units='xy', scale=l/3.5, width=0.3)\n",
    "    # Show plot with grid\n",
    "    #plt.grid()\n",
    "    #plt.savefig('C:\\\\Users\\\\Lenovo\\\\1navigation\\\\divergence\\\\' + name + 'VelocityField.png')\n",
    "    plt.show()"
   ]
  },
  {
   "cell_type": "code",
   "execution_count": 37,
   "id": "80736b4c",
   "metadata": {},
   "outputs": [
    {
     "data": {
      "text/plain": [
       "['tr4', 'tr3', 'tr5', 'tr6', 'tr7', 'tr91', 'tr92', 'tr1', 'tr2']"
      ]
     },
     "execution_count": 37,
     "metadata": {},
     "output_type": "execute_result"
    }
   ],
   "source": [
    "names"
   ]
  },
  {
   "cell_type": "code",
   "execution_count": 86,
   "id": "f28ac91e",
   "metadata": {},
   "outputs": [
    {
     "ename": "NameError",
     "evalue": "name 'n' is not defined",
     "output_type": "error",
     "traceback": [
      "\u001b[1;31m---------------------------------------------------------------------------\u001b[0m",
      "\u001b[1;31mNameError\u001b[0m                                 Traceback (most recent call last)",
      "Cell \u001b[1;32mIn[86], line 2\u001b[0m\n\u001b[0;32m      1\u001b[0m \u001b[38;5;28;01mfor\u001b[39;00m i \u001b[38;5;129;01min\u001b[39;00m \u001b[38;5;28mrange\u001b[39m(\u001b[38;5;28mlen\u001b[39m(dfs)):\n\u001b[1;32m----> 2\u001b[0m     \u001b[43mbuildVectorField\u001b[49m\u001b[43m(\u001b[49m\u001b[43mdfs\u001b[49m\u001b[43m[\u001b[49m\u001b[43mi\u001b[49m\u001b[43m]\u001b[49m\u001b[43m,\u001b[49m\u001b[43m \u001b[49m\u001b[43mnames\u001b[49m\u001b[43m[\u001b[49m\u001b[43mi\u001b[49m\u001b[43m]\u001b[49m\u001b[43m)\u001b[49m\n",
      "Cell \u001b[1;32mIn[85], line 2\u001b[0m, in \u001b[0;36mbuildVectorField\u001b[1;34m(df, name)\u001b[0m\n\u001b[0;32m      1\u001b[0m \u001b[38;5;28;01mdef\u001b[39;00m \u001b[38;5;21mbuildVectorField\u001b[39m(df, name):\n\u001b[1;32m----> 2\u001b[0m     binx \u001b[38;5;241m=\u001b[39m np\u001b[38;5;241m.\u001b[39mlinspace(df[\u001b[38;5;124m\"\u001b[39m\u001b[38;5;124mx\u001b[39m\u001b[38;5;124m\"\u001b[39m]\u001b[38;5;241m.\u001b[39mmin() \u001b[38;5;241m-\u001b[39m \u001b[38;5;241m0.1\u001b[39m, df[\u001b[38;5;124m\"\u001b[39m\u001b[38;5;124mx\u001b[39m\u001b[38;5;124m\"\u001b[39m]\u001b[38;5;241m.\u001b[39mmax() \u001b[38;5;241m+\u001b[39m \u001b[38;5;241m0.1\u001b[39m, \u001b[43mn\u001b[49m\u001b[38;5;241m+\u001b[39m\u001b[38;5;241m1\u001b[39m)\n\u001b[0;32m      3\u001b[0m     x_cut \u001b[38;5;241m=\u001b[39m pd\u001b[38;5;241m.\u001b[39mcut(df\u001b[38;5;241m.\u001b[39mx, binx, right\u001b[38;5;241m=\u001b[39m\u001b[38;5;28;01mFalse\u001b[39;00m)\n\u001b[0;32m      4\u001b[0m     biny \u001b[38;5;241m=\u001b[39m np\u001b[38;5;241m.\u001b[39mlinspace(df[\u001b[38;5;124m\"\u001b[39m\u001b[38;5;124my\u001b[39m\u001b[38;5;124m\"\u001b[39m]\u001b[38;5;241m.\u001b[39mmin(), df[\u001b[38;5;124m\"\u001b[39m\u001b[38;5;124my\u001b[39m\u001b[38;5;124m\"\u001b[39m]\u001b[38;5;241m.\u001b[39mmax(), n\u001b[38;5;241m+\u001b[39m\u001b[38;5;241m1\u001b[39m)\n",
      "\u001b[1;31mNameError\u001b[0m: name 'n' is not defined"
     ]
    }
   ],
   "source": [
    "for i in range(len(dfs)):\n",
    "    buildVectorField(dfs[i], names[i])"
   ]
  },
  {
   "cell_type": "raw",
   "id": "ad26d77b",
   "metadata": {},
   "source": [
    "что-то не то произошло с tr4. с остальными векторными полями все ок. хотя tr2 стрелки почему-то другого размера"
   ]
  },
  {
   "cell_type": "markdown",
   "id": "f98b1ef5",
   "metadata": {},
   "source": [
    "### исправленная дивергенция"
   ]
  },
  {
   "cell_type": "code",
   "execution_count": 20,
   "id": "6dc0980a",
   "metadata": {},
   "outputs": [],
   "source": [
    "def divMap(df, n, name):\n",
    "    ind = range(0, len(df))\n",
    "    df = df.reindex(ind)\n",
    "    vx = []\n",
    "    vy = []\n",
    "    div = []\n",
    "    for i in range(len(df)):\n",
    "        if i == 0:\n",
    "            vx.append(0)\n",
    "            vy.append(0)\n",
    "            div.append(0)\n",
    "        elif (df['x'][i]-df['x'][i-1])==0 or (df['y'][i]-df['y'][i-1])==0:\n",
    "            vx.append((df['x'][i]-df['x'][i-1])/(df['time'][i]-df['time'][i-1]))\n",
    "            vy.append((df['y'][i]-df['y'][i-1])/(df['time'][i]-df['time'][i-1]))\n",
    "            div.append(0)\n",
    "        else:\n",
    "            dx = df['x'][i]-df['x'][i-1]\n",
    "            dy = df['y'][i]-df['y'][i-1]\n",
    "            dt = df['time'][i]-df['time'][i-1]\n",
    "            vvx = dx/dt\n",
    "            vvy = dy/dt\n",
    "            vx.append(vvx)\n",
    "            vy.append(vvy)\n",
    "            div.append(vvx/dx + vvy/dy)\n",
    "    #d3 = gaussian_filter1d(div, 3)\n",
    "    d5 = gaussian_filter1d(div, 5)\n",
    "    #plt.plot(div, 'k', label='original data')\n",
    "    #plt.plot(d3, '--', label='filtered, sigma=3')\n",
    "    #plt.plot(d5, '--', label='filtered, sigma=5')\n",
    "    #plt.legend()\n",
    "    #plt.grid()\n",
    "    \n",
    "    #df.insert(3, \"Vx\", vx)\n",
    "    #df.insert(4, \"Vy\", vy)\n",
    "    df.insert(5, \"divergence\", d5)\n",
    "    print(df)\n",
    "    xmin = df[\"x\"].min() - 0.1\n",
    "    xmax = df[\"x\"].max() + 0.1\n",
    "    binx = np.linspace(xmin, xmax, n+1)\n",
    "    x_cut = pd.cut(df.x, binx, right=False)\n",
    "    ymin = df[\"y\"].min() - 0.1\n",
    "    ymax = df[\"y\"].max() + 0.1\n",
    "    biny = np.linspace(ymin, ymax, n+1)\n",
    "    y_cut = pd.cut(df.y, biny, right=False)\n",
    "    dfn = df.groupby([x_cut, y_cut]).mean()\n",
    "    dfn = pd.DataFrame(dfn.loc[:, 'divergence'])\n",
    "    dfn = dfn.unstack()\n",
    "    #Replace NaN with epsilons\n",
    "    dfn = dfn.fillna(0.1)\n",
    "    \n",
    "    plt.figure()\n",
    "    sns.heatmap(dfn, robust=False, square=True, xticklabels=False, yticklabels=False)\n",
    "    #plt.savefig('C:\\\\Users\\\\Lenovo\\\\1navigation\\\\divergence\\\\' + name + 'diverge.png')\n",
    "    return dfn"
   ]
  },
  {
   "cell_type": "code",
   "execution_count": 22,
   "id": "ac0c42d2",
   "metadata": {},
   "outputs": [],
   "source": [
    "nameslil = names[4:]"
   ]
  },
  {
   "cell_type": "code",
   "execution_count": 23,
   "id": "e8633f6c",
   "metadata": {},
   "outputs": [
    {
     "data": {
      "text/plain": [
       "9"
      ]
     },
     "execution_count": 23,
     "metadata": {},
     "output_type": "execute_result"
    }
   ],
   "source": [
    "len(dfs)"
   ]
  },
  {
   "cell_type": "code",
   "execution_count": 43,
   "id": "57986f81",
   "metadata": {},
   "outputs": [
    {
     "data": {
      "text/plain": [
       "['tr4', 'tr3', 'tr5', 'tr6', 'tr7', 'tr91', 'tr92', 'tr1', 'tr2']"
      ]
     },
     "execution_count": 43,
     "metadata": {},
     "output_type": "execute_result"
    }
   ],
   "source": []
  },
  {
   "cell_type": "code",
   "execution_count": 28,
   "id": "2c663d49",
   "metadata": {},
   "outputs": [
    {
     "name": "stdout",
     "output_type": "stream",
     "text": [
      "           time       x       y        Vx         Vy  divergence         V\n",
      "0         1.001  -2.733  34.229 -3.645879   0.000000   29.385973  6.125968\n",
      "1         1.034  -2.733  34.229 -3.529749   0.000000   29.256615  6.135217\n",
      "2         1.068  -2.603  33.969 -3.302660  -7.647059   28.992661  6.152850\n",
      "3         1.101  -2.343  33.579 -2.976427 -11.818182   28.590527  6.180329\n",
      "4         1.134  -1.952  33.188 -2.571133 -11.848485   28.060920  6.222073\n",
      "...         ...     ...     ...       ...        ...         ...       ...\n",
      "52518  1754.853  43.860 -45.943 -0.000631   0.000000    0.014937  0.357453\n",
      "52519  1754.886  43.860 -45.943 -0.000364   0.000000    0.007417  0.289903\n",
      "52520  1754.920  43.860 -45.943 -0.000128   0.000000    0.003539  0.234629\n",
      "52521  1754.953  43.860 -45.943 -0.000105   0.000000    0.001622  0.195579\n",
      "52522  1754.987  43.860 -45.943  0.000000   0.000000    0.000000  0.175343\n",
      "\n",
      "[52523 rows x 7 columns]\n"
     ]
    },
    {
     "name": "stderr",
     "output_type": "stream",
     "text": [
      "C:\\Users\\Lenovo\\anaconda3\\envs\\navigation\\lib\\site-packages\\numpy\\core\\fromnumeric.py:84: FutureWarning: In a future version, DataFrame.min(axis=None) will return a scalar min over the entire DataFrame. To retain the old behavior, use 'frame.min(axis=0)' or just 'frame.min()'\n",
      "  return reduction(axis=axis, out=out, **passkwargs)\n",
      "C:\\Users\\Lenovo\\anaconda3\\envs\\navigation\\lib\\site-packages\\numpy\\core\\fromnumeric.py:84: FutureWarning: In a future version, DataFrame.max(axis=None) will return a scalar max over the entire DataFrame. To retain the old behavior, use 'frame.max(axis=0)' or just 'frame.max()'\n",
      "  return reduction(axis=axis, out=out, **passkwargs)\n"
     ]
    }
   ],
   "source": [
    "m = dfs[7]\n",
    "m = divMap(m,15,names[i])\n",
    "m = minmax(m)"
   ]
  },
  {
   "cell_type": "code",
   "execution_count": 26,
   "id": "3348cb99",
   "metadata": {},
   "outputs": [
    {
     "name": "stdout",
     "output_type": "stream",
     "text": [
      "           time       x       y        Vx        Vy  divergence         V\n",
      "0        10.010  -1.021  35.371  2.976820  0.000000   21.856048  3.144397\n",
      "1        10.043  -0.948  35.663  2.933530  8.848485   21.462882  3.103825\n",
      "2        10.077  -0.875  35.882  2.850583  6.441176   20.714076  3.026627\n",
      "3        10.110  -0.875  35.882  2.734427  0.000000   19.680526  2.919843\n",
      "4        10.143  -0.875  35.882  2.593327  0.000000   18.458459  2.792615\n",
      "...         ...     ...     ...       ...       ...         ...       ...\n",
      "52293  1754.853  21.223 -10.867 -0.295036  0.000000    4.574184  1.543491\n",
      "52294  1754.886  21.223 -10.867 -0.275749  0.000000    4.102947  1.505089\n",
      "52295  1754.920  21.150 -10.867 -0.254771  0.000000    3.684120  1.467157\n",
      "52296  1754.953  21.223 -10.867 -0.237303  0.000000    3.370215  1.436941\n",
      "52297  1754.987  21.223 -10.867 -0.227538  0.000000    3.202047  1.420204\n",
      "\n",
      "[52298 rows x 7 columns]\n"
     ]
    },
    {
     "name": "stderr",
     "output_type": "stream",
     "text": [
      "C:\\Users\\Lenovo\\anaconda3\\envs\\navigation\\lib\\site-packages\\numpy\\core\\fromnumeric.py:84: FutureWarning: In a future version, DataFrame.min(axis=None) will return a scalar min over the entire DataFrame. To retain the old behavior, use 'frame.min(axis=0)' or just 'frame.min()'\n",
      "  return reduction(axis=axis, out=out, **passkwargs)\n",
      "C:\\Users\\Lenovo\\anaconda3\\envs\\navigation\\lib\\site-packages\\numpy\\core\\fromnumeric.py:84: FutureWarning: In a future version, DataFrame.max(axis=None) will return a scalar max over the entire DataFrame. To retain the old behavior, use 'frame.max(axis=0)' or just 'frame.max()'\n",
      "  return reduction(axis=axis, out=out, **passkwargs)\n"
     ]
    }
   ],
   "source": [
    "m = dfs[7]\n",
    "m = divMap(dfs[i],15,names[i])\n",
    "m = minmax(m)"
   ]
  },
  {
   "cell_type": "code",
   "execution_count": null,
   "id": "ac26f29f",
   "metadata": {},
   "outputs": [],
   "source": [
    "for i in range(len(dfs)):\n",
    "    occ[names[i]] = occupMapNorm(dfs[i])\n",
    "    occ[names[i]] = minmax(occ[names[i]])"
   ]
  },
  {
   "cell_type": "code",
   "execution_count": 21,
   "id": "f1d7413f",
   "metadata": {},
   "outputs": [
    {
     "name": "stdout",
     "output_type": "stream",
     "text": [
      "        time      x      y        Vx   Vy  divergence         V\n",
      "0      1.001 -3.355 -5.324 -0.239166  0.0    4.798430  0.548146\n",
      "1      1.034 -3.355 -5.324 -0.258102  0.0    5.059867  0.569721\n",
      "2      1.068 -3.355 -5.324 -0.295058  0.0    5.566066  0.611498\n",
      "3      1.101 -3.355 -5.324 -0.348334  0.0    6.290519  0.671122\n",
      "4      1.134 -3.282 -5.324 -0.415352  0.0    7.197515  0.745419\n",
      "...      ...    ...    ...       ...  ...         ...       ...\n",
      "16750    NaN    NaN    NaN       NaN  NaN         NaN       NaN\n",
      "16751    NaN    NaN    NaN       NaN  NaN         NaN       NaN\n",
      "16752    NaN    NaN    NaN       NaN  NaN         NaN       NaN\n",
      "16753    NaN    NaN    NaN       NaN  NaN         NaN       NaN\n",
      "16754    NaN    NaN    NaN       NaN  NaN         NaN       NaN\n",
      "\n",
      "[16755 rows x 7 columns]\n",
      "          time       x       y        Vx        Vy  divergence          V\n",
      "0        1.001  -3.409  -2.178  1.860094  0.000000    8.240964   3.900901\n",
      "1        1.134  -3.409  -2.178  1.903247  0.000000    8.476343   4.041800\n",
      "2        1.268  -3.409  -2.178  1.990265  0.000000    8.922884   4.310515\n",
      "3        1.401  -3.693  -1.231  2.122928  7.120301    9.536232   4.683199\n",
      "4        1.535  -3.599  -0.758  2.304476  3.529851   10.259107   5.129647\n",
      "...        ...     ...     ...       ...       ...         ...        ...\n",
      "6192  1566.565  18.940  34.756  0.843446 -1.421053   11.037469  10.986339\n",
      "6193  1566.698  16.005  35.324  1.019928  4.270677   11.571000  12.320744\n",
      "6194  1566.832  13.069  35.513  1.172331  1.410448   12.012225  13.435318\n",
      "6195  1566.965   9.849  35.608  1.284506  0.714286   12.327522  14.237578\n",
      "6196  1567.099   6.534  36.366  1.344002  5.656716   12.491919  14.657562\n",
      "\n",
      "[6197 rows x 7 columns]\n",
      "           time       x       y         Vx         Vy  divergence          V\n",
      "0         1.001   4.578 -14.767 -11.628300   0.000000   45.873707  12.704661\n",
      "1         1.034   4.282 -15.210 -11.696951 -13.424242   46.035994  12.775473\n",
      "2         1.068   4.135 -15.653 -11.825645 -13.029412   46.341694  12.910177\n",
      "3         1.101   3.839 -16.244 -11.997990 -17.909091   46.753703  13.095444\n",
      "4         1.134   3.987 -16.687 -12.194633 -13.424242   47.227845  13.315494\n",
      "...         ...     ...     ...        ...        ...         ...        ...\n",
      "27364  1754.653 -48.583 -46.221  -6.437376  -8.969697   31.581471  10.071542\n",
      "27365  1754.686 -49.027 -46.516  -6.899782  -8.939394   33.363709  10.743070\n",
      "27366  1754.720 -49.470 -46.811  -7.267259  -8.676471   34.733541  11.268966\n",
      "27367  1754.753 -49.913 -47.550  -7.522543 -22.393939   35.662392  11.630004\n",
      "27368  1754.786 -49.913 -47.550  -7.653497   0.000000   36.130869  11.813513\n",
      "\n",
      "[27369 rows x 7 columns]\n",
      "           time       x       y         Vx          Vy  divergence          V\n",
      "0         1.001  -2.749 -17.252 -15.130235    0.000000   44.633977  22.775254\n",
      "1         1.034  -3.507 -17.916 -15.184590  -20.121212   44.834280  22.818525\n",
      "2         1.068  -4.455 -18.579 -15.282166  -19.500000   45.212738  22.895477\n",
      "3         1.101  -5.214 -19.243 -15.402575  -20.121212   45.727996  22.988517\n",
      "4         1.134  -5.972 -19.906 -15.521411  -20.090909   46.328166  23.076770\n",
      "...         ...     ...     ...        ...         ...         ...        ...\n",
      "49778  1662.127  37.822  23.034 -36.179205    0.000000   25.577973  37.190343\n",
      "49779  1662.161  37.822  23.034 -38.198208    0.000000   24.600106  39.082533\n",
      "49780  1662.194  37.917  19.622 -39.792628 -103.393939   23.726370  40.572643\n",
      "49781  1662.227  37.917  19.622 -40.897404    0.000000   23.068882  41.602986\n",
      "49782  1662.261  37.917  16.399 -41.463335  -94.794118   22.715960  42.130085\n",
      "\n",
      "[49783 rows x 7 columns]\n",
      "           time       x       y        Vx        Vy  divergence         V\n",
      "0         1.001   2.771   2.771 -1.020664  0.000000    3.304299  1.060714\n",
      "1         1.034   2.771   2.771 -1.061949  0.000000    3.763619  1.109922\n",
      "2         1.068   2.771   2.771 -1.140741  0.000000    4.673337  1.205239\n",
      "3         1.101   2.771   2.698 -1.249830 -2.212121    6.014962  1.340646\n",
      "4         1.134   2.771   2.626 -1.378875 -2.181818    7.747893  1.507519\n",
      "...         ...     ...     ...       ...       ...         ...       ...\n",
      "48907  1635.467  33.402 -31.141 -0.733386 -4.393939   41.555536  3.465172\n",
      "48908  1635.501  33.475 -31.214 -0.537968 -2.147059   42.539702  3.571069\n",
      "48909  1635.534  33.475 -31.141 -0.361413  2.212121   43.232868  3.649632\n",
      "48910  1635.567  33.402 -30.996 -0.227686  4.393939   43.672249  3.701474\n",
      "48911  1635.601  33.256 -30.923 -0.155710  2.147059   43.883229  3.727074\n",
      "\n",
      "[48912 rows x 7 columns]\n",
      "           time       x       y        Vx        Vy  divergence         V\n",
      "0         1.001  -2.067  -2.067  0.593733  0.000000   15.512576  4.962543\n",
      "1         1.034  -1.838  -2.067  0.741776  0.000000   15.536078  5.008552\n",
      "2         1.068  -1.608  -2.297  1.031246 -6.764706   15.553822  5.100484\n",
      "3         1.101  -1.608  -2.297  1.450401  0.000000   15.515553  5.238663\n",
      "4         1.134  -1.378  -2.297  1.983926  0.000000   15.367451  5.425259\n",
      "...         ...     ...     ...       ...       ...         ...       ...\n",
      "51857  1735.234 -40.197 -21.821  0.000000  0.000000    0.000000  4.358636\n",
      "51858  1735.267 -40.427 -21.821  0.000000  0.000000    0.000000  4.699786\n",
      "51859  1735.300 -39.967 -21.821  0.000000  0.000000    0.000000  4.983921\n",
      "51860  1735.334 -39.967 -21.821  0.000000  0.000000    0.000000  5.187489\n",
      "51861  1735.367 -40.197 -21.821  0.000000  0.000000    0.000000  5.293425\n",
      "\n",
      "[51862 rows x 7 columns]\n",
      "           time       x       y         Vx         Vy  divergence          V\n",
      "0         1.001  29.919  -9.381  26.065710   0.000000   13.412147  26.231921\n",
      "1         1.034  29.919  -8.114  26.402116  38.393939   13.693046  26.571554\n",
      "2         1.068  29.919  -8.114  27.041200   0.000000   14.225103  27.216804\n",
      "3         1.101  29.919  -6.846  27.921252  38.424242   14.954865  28.105428\n",
      "4         1.134  30.173  -5.578  28.961521  38.424242   15.819378  29.155846\n",
      "...         ...     ...     ...        ...        ...         ...        ...\n",
      "46361  1678.844 -41.076 -24.088  -0.380926   0.000000   12.343633   5.921252\n",
      "46362  1678.877 -40.822 -24.341  -0.501798  -7.666667   13.632078   5.948522\n",
      "46363  1678.911 -41.076 -24.088  -0.603838   7.441176   14.689766   5.964734\n",
      "46364  1678.944 -41.076 -24.341  -0.677528  -7.666667   15.438553   5.973309\n",
      "46365  1678.977 -41.076 -24.341  -0.716297   0.000000   15.826366   5.976907\n",
      "\n",
      "[46366 rows x 7 columns]\n",
      "           time       x       y        Vx         Vy  divergence         V\n",
      "0         1.001  -2.733  34.229 -3.645879   0.000000   29.385973  6.125968\n",
      "1         1.034  -2.733  34.229 -3.529749   0.000000   29.256615  6.135217\n",
      "2         1.068  -2.603  33.969 -3.302660  -7.647059   28.992661  6.152850\n",
      "3         1.101  -2.343  33.579 -2.976427 -11.818182   28.590527  6.180329\n",
      "4         1.134  -1.952  33.188 -2.571133 -11.848485   28.060920  6.222073\n",
      "...         ...     ...     ...       ...        ...         ...       ...\n",
      "52518  1754.853  43.860 -45.943 -0.000631   0.000000    0.014937  0.357453\n",
      "52519  1754.886  43.860 -45.943 -0.000364   0.000000    0.007417  0.289903\n",
      "52520  1754.920  43.860 -45.943 -0.000128   0.000000    0.003539  0.234629\n",
      "52521  1754.953  43.860 -45.943 -0.000105   0.000000    0.001622  0.195579\n",
      "52522  1754.987  43.860 -45.943  0.000000   0.000000    0.000000  0.175343\n",
      "\n",
      "[52523 rows x 7 columns]\n",
      "           time       x       y        Vx        Vy  divergence         V\n",
      "0        10.010  -1.021  35.371  2.976820  0.000000   21.856048  3.144397\n",
      "1        10.043  -0.948  35.663  2.933530  8.848485   21.462882  3.103825\n",
      "2        10.077  -0.875  35.882  2.850583  6.441176   20.714076  3.026627\n",
      "3        10.110  -0.875  35.882  2.734427  0.000000   19.680526  2.919843\n",
      "4        10.143  -0.875  35.882  2.593327  0.000000   18.458459  2.792615\n",
      "...         ...     ...     ...       ...       ...         ...       ...\n",
      "52293  1754.853  21.223 -10.867 -0.295036  0.000000    4.574184  1.543491\n",
      "52294  1754.886  21.223 -10.867 -0.275749  0.000000    4.102947  1.505089\n",
      "52295  1754.920  21.150 -10.867 -0.254771  0.000000    3.684120  1.467157\n",
      "52296  1754.953  21.223 -10.867 -0.237303  0.000000    3.370215  1.436941\n",
      "52297  1754.987  21.223 -10.867 -0.227538  0.000000    3.202047  1.420204\n",
      "\n",
      "[52298 rows x 7 columns]\n"
     ]
    }
   ],
   "source": [
    "for i in range(len(names)):\n",
    "    divMap(dfs[i],15,names[i])"
   ]
  },
  {
   "cell_type": "markdown",
   "id": "129d7ec8",
   "metadata": {},
   "source": [
    "### occupancy map"
   ]
  },
  {
   "cell_type": "code",
   "execution_count": 9,
   "id": "2399bb17",
   "metadata": {},
   "outputs": [],
   "source": [
    "def occupMapNorm(df):\n",
    "    xmin = df[\"x\"].min() - 0.1\n",
    "    xmax = df[\"x\"].max() + 0.1\n",
    "    binx = np.linspace(xmin, xmax, 16)\n",
    "    x_cut = pd.cut(df.x, binx, right=False)\n",
    "    #делаем df где будет понятно сколько было точек в каждом бине \n",
    "    #соответсвуеющему данному интервалу х и данному интервалу у\n",
    "    ymin = df[\"y\"].min() - 0.1\n",
    "    ymax = df[\"y\"].max() + 0.1\n",
    "    biny = np.linspace(ymin, ymax, 16)\n",
    "    y_cut = pd.cut(df.y, biny, right=False)\n",
    "    dfn = df.groupby([x_cut, y_cut]).count()\n",
    "    \n",
    "    print(x_cut.isnull().values.any(), y_cut.isnull().values.any())\n",
    "    \n",
    "    dfn = dfn.drop(columns=['x','y','Vx','Vy','V'])\n",
    "    dfn = dfn.rename(columns={'time': 'Count'})\n",
    "    \n",
    "    #сделаем df с норм числами в индексах, а не с интервалами\n",
    "    L = [(a.mid, b.mid) for a, b in dfn.index]\n",
    "    dfm = dfn.set_index(pd.MultiIndex.from_tuples(L, names=dfn.index.names))\n",
    "    \n",
    "    dd = dfm.unstack()\n",
    "    dd = dd.replace(0, 1.e-1)\n",
    "    arrd = dd.to_numpy()\n",
    "    arrl = np.log(arrd)\n",
    "    arrsrsr = np.sqrt(np.sqrt(np.sqrt(arrd)))\n",
    "    #plt.figure()\n",
    "    #sns.heatmap(arrl, square=True, xticklabels=False, yticklabels=False)\n",
    "    #plt.plot()\n",
    "    return(arrl)"
   ]
  },
  {
   "cell_type": "code",
   "execution_count": 10,
   "id": "0b939b27",
   "metadata": {},
   "outputs": [],
   "source": [
    "def minmax(occ):\n",
    "    kk = (occ - np.amin(occ)) / (np.amax(occ) - np.amin(occ))\n",
    "    kl = pd.DataFrame(kk)\n",
    "    plt.figure()\n",
    "    sns.heatmap(kl, square=True, xticklabels=False, yticklabels=False)\n",
    "    return kl"
   ]
  },
  {
   "cell_type": "code",
   "execution_count": 11,
   "id": "5f02f080",
   "metadata": {},
   "outputs": [
    {
     "data": {
      "text/plain": [
       "['tr4', 'tr3', 'tr5', 'tr6', 'tr7', 'tr91', 'tr92', 'tr1', 'tr2']"
      ]
     },
     "execution_count": 11,
     "metadata": {},
     "output_type": "execute_result"
    }
   ],
   "source": [
    "names"
   ]
  },
  {
   "cell_type": "code",
   "execution_count": 12,
   "id": "a35d90e3",
   "metadata": {},
   "outputs": [],
   "source": [
    "occ = {}"
   ]
  },
  {
   "cell_type": "code",
   "execution_count": 17,
   "id": "b2785674",
   "metadata": {},
   "outputs": [
    {
     "name": "stdout",
     "output_type": "stream",
     "text": [
      "Using matplotlib backend: Qt5Agg\n"
     ]
    }
   ],
   "source": [
    "%matplotlib"
   ]
  },
  {
   "cell_type": "code",
   "execution_count": 19,
   "id": "5d0b0882",
   "metadata": {},
   "outputs": [
    {
     "data": {
      "text/plain": [
       "['tr4', 'tr3', 'tr5', 'tr6', 'tr7', 'tr91', 'tr92', 'tr1', 'tr2']"
      ]
     },
     "execution_count": 19,
     "metadata": {},
     "output_type": "execute_result"
    }
   ],
   "source": [
    "names"
   ]
  },
  {
   "cell_type": "code",
   "execution_count": 18,
   "id": "de8b489a",
   "metadata": {},
   "outputs": [
    {
     "name": "stdout",
     "output_type": "stream",
     "text": [
      "True True\n",
      "True True\n",
      "False False\n",
      "True True\n",
      "True True\n",
      "True True\n",
      "True True\n",
      "False False\n",
      "False False\n"
     ]
    }
   ],
   "source": [
    "for i in range(len(dfs)):\n",
    "    occ[names[i]] = occupMapNorm(dfs[i])\n",
    "    occ[names[i]] = minmax(occ[names[i]])"
   ]
  },
  {
   "cell_type": "code",
   "execution_count": 74,
   "id": "016888cb",
   "metadata": {},
   "outputs": [
    {
     "data": {
      "text/plain": [
       "['tr4', 'tr3', 'tr5', 'tr6', 'tr7', 'tr91', 'tr92', 'tr1', 'tr2']"
      ]
     },
     "execution_count": 74,
     "metadata": {},
     "output_type": "execute_result"
    }
   ],
   "source": [
    "names"
   ]
  },
  {
   "cell_type": "code",
   "execution_count": 77,
   "id": "57608b46",
   "metadata": {},
   "outputs": [
    {
     "data": {
      "text/plain": [
       "<AxesSubplot:>"
      ]
     },
     "execution_count": 77,
     "metadata": {},
     "output_type": "execute_result"
    },
    {
     "data": {
      "image/png": "[encoded data removed]",
      "text/plain": [
       "<Figure size 640x480 with 2 Axes>"
      ]
     },
     "metadata": {},
     "output_type": "display_data"
    }
   ],
   "source": [
    "occMean = np.mean( np.array([ occ['tr4'], occ['tr3'], occ['tr5'], occ['tr6'], occ['tr7'], occ['tr91'], occ['tr1'], occ['tr2']]), axis=0 )\n",
    "sns.heatmap(occMean, square=True, xticklabels=False, yticklabels=False)"
   ]
  },
  {
   "cell_type": "markdown",
   "id": "06cfa495",
   "metadata": {},
   "source": [
    "### шаг 3с"
   ]
  },
  {
   "cell_type": "code",
   "execution_count": 82,
   "id": "8760e86f",
   "metadata": {},
   "outputs": [],
   "source": [
    "dfss = dfs[1:]"
   ]
  },
  {
   "cell_type": "code",
   "execution_count": 83,
   "id": "6cfbc80e",
   "metadata": {},
   "outputs": [
    {
     "data": {
      "image/png": "[encoded data removed]",
      "text/plain": [
       "<Figure size 640x480 with 1 Axes>"
      ]
     },
     "metadata": {},
     "output_type": "display_data"
    },
    {
     "ename": "ZeroDivisionError",
     "evalue": "float division by zero",
     "output_type": "error",
     "traceback": [
      "\u001b[1;31m---------------------------------------------------------------------------\u001b[0m",
      "\u001b[1;31mZeroDivisionError\u001b[0m                         Traceback (most recent call last)",
      "Cell \u001b[1;32mIn [83], line 38\u001b[0m\n\u001b[0;32m     35\u001b[0m N \u001b[38;5;241m=\u001b[39m SAMPLE_RATE \u001b[38;5;241m*\u001b[39m DURATION\n\u001b[0;32m     37\u001b[0m yf \u001b[38;5;241m=\u001b[39m rfft(xynum)\n\u001b[1;32m---> 38\u001b[0m xf \u001b[38;5;241m=\u001b[39m \u001b[43mrfftfreq\u001b[49m\u001b[43m(\u001b[49m\u001b[38;5;28;43mint\u001b[39;49m\u001b[43m(\u001b[49m\u001b[43mN\u001b[49m\u001b[43m)\u001b[49m\u001b[43m,\u001b[49m\u001b[43m \u001b[49m\u001b[38;5;28;43mint\u001b[39;49m\u001b[43m(\u001b[49m\u001b[38;5;241;43m1\u001b[39;49m\u001b[43m \u001b[49m\u001b[38;5;241;43m/\u001b[39;49m\u001b[43m \u001b[49m\u001b[43mSAMPLE_RATE\u001b[49m\u001b[43m)\u001b[49m\u001b[43m)\u001b[49m\n\u001b[0;32m     39\u001b[0m plt\u001b[38;5;241m.\u001b[39mfigure()\n\u001b[0;32m     40\u001b[0m plt\u001b[38;5;241m.\u001b[39mplot(xf, np\u001b[38;5;241m.\u001b[39mabs(yf))\n",
      "File \u001b[1;32m~\\anaconda3\\envs\\navigation\\lib\\site-packages\\numpy\\fft\\helper.py:218\u001b[0m, in \u001b[0;36mrfftfreq\u001b[1;34m(n, d)\u001b[0m\n\u001b[0;32m    216\u001b[0m \u001b[38;5;28;01mif\u001b[39;00m \u001b[38;5;129;01mnot\u001b[39;00m \u001b[38;5;28misinstance\u001b[39m(n, integer_types):\n\u001b[0;32m    217\u001b[0m     \u001b[38;5;28;01mraise\u001b[39;00m \u001b[38;5;167;01mValueError\u001b[39;00m(\u001b[38;5;124m\"\u001b[39m\u001b[38;5;124mn should be an integer\u001b[39m\u001b[38;5;124m\"\u001b[39m)\n\u001b[1;32m--> 218\u001b[0m val \u001b[38;5;241m=\u001b[39m \u001b[38;5;241;43m1.0\u001b[39;49m\u001b[38;5;241;43m/\u001b[39;49m\u001b[43m(\u001b[49m\u001b[43mn\u001b[49m\u001b[38;5;241;43m*\u001b[39;49m\u001b[43md\u001b[49m\u001b[43m)\u001b[49m\n\u001b[0;32m    219\u001b[0m N \u001b[38;5;241m=\u001b[39m n\u001b[38;5;241m/\u001b[39m\u001b[38;5;241m/\u001b[39m\u001b[38;5;241m2\u001b[39m \u001b[38;5;241m+\u001b[39m \u001b[38;5;241m1\u001b[39m\n\u001b[0;32m    220\u001b[0m results \u001b[38;5;241m=\u001b[39m arange(\u001b[38;5;241m0\u001b[39m, N, dtype\u001b[38;5;241m=\u001b[39m\u001b[38;5;28mint\u001b[39m)\n",
      "\u001b[1;31mZeroDivisionError\u001b[0m: float division by zero"
     ]
    }
   ],
   "source": [
    "for df in dfss:\n",
    "    xy = []\n",
    "    x0 = df['x'][0]\n",
    "    y0 = df['y'][0]\n",
    "    delX = []\n",
    "    delY = []\n",
    "    for i in range(len(df)):\n",
    "        dx = df.iloc[i]['x'] - x0\n",
    "        dy = df.iloc[i]['y'] - y0\n",
    "        xxy = pow(pow(dx, 2) + pow(dy, 2), 0.5)\n",
    "        delX.append(dx)\n",
    "        delY.append(dy)\n",
    "        xy.append(xxy)\n",
    "        x0 = df.iloc[i]['x']\n",
    "        y0 = df.iloc[i]['y']\n",
    "    tt = []\n",
    "    t0 = df['time'][0]\n",
    "    for i in range(len(df)):\n",
    "        dt = df.iloc[i]['time'] - t0\n",
    "        tt.append(dt)\n",
    "        t0 = df.iloc[i]['time']\n",
    "    dg = df.copy()\n",
    "    dg.insert(3, \"dx\", delX)\n",
    "    dg.insert(4, \"dy\", delY)\n",
    "    dg.insert(5, \"xy\", xy)\n",
    "    xynum = dg['xy'].to_numpy()\n",
    "    plt.figure()\n",
    "    plt.hist(xynum, bins=40)\n",
    "    plt.show()\n",
    "    from scipy.fft import rfft, rfftfreq\n",
    "    #исправить\n",
    "    DURATION = 912.912\n",
    "    SAMPLE_RATE = len(dg) / DURATION\n",
    "    # Number of samples in normalized_tone\n",
    "    N = SAMPLE_RATE * DURATION\n",
    "\n",
    "    yf = rfft(xynum)\n",
    "    xf = rfftfreq(int(N), int(1 / SAMPLE_RATE))\n",
    "    plt.figure()\n",
    "    plt.plot(xf, np.abs(yf))\n",
    "    plt.show()"
   ]
  }
 ],
 "metadata": {
  "kernelspec": {
   "display_name": "navigation",
   "language": "python",
   "name": "navigation"
  },
  "language_info": {
   "codemirror_mode": {
    "name": "ipython",
    "version": 3
   },
   "file_extension": ".py",
   "mimetype": "text/x-python",
   "name": "python",
   "nbconvert_exporter": "python",
   "pygments_lexer": "ipython3",
   "version": "3.9.15"
  }
 },
 "nbformat": 4,
 "nbformat_minor": 5
}
