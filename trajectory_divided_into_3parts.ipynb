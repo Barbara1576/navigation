{
 "cells": [
  {
   "cell_type": "code",
   "execution_count": null,
   "metadata": {},
   "outputs": [],
   "source": [
    "# here we will compare the trajectory at the start, mid and end in time\n",
    "# hypothesis: mice stop being active\n",
    "# this means that distribution of mice params in changed?"
   ]
  },
  {
   "cell_type": "code",
   "execution_count": 1,
   "metadata": {},
   "outputs": [],
   "source": [
    "import numpy as np\n",
    "import matplotlib.pyplot as plt\n",
    "from utils.processing import (\n",
    "    cut_df,\n",
    "    open_file,\n",
    "    \n",
    "    )\n"
   ]
  },
  {
   "cell_type": "code",
   "execution_count": null,
   "metadata": {},
   "outputs": [],
   "source": [
    "# load trajs and marks \n",
    "DATA_DIR = 'preprocessed_dataset'\n",
    "files = ['tr3', 'tr5', 'tr6', 'tr7', 'tr91']\n",
    "\n",
    "marks_dict = {}\n",
    "for k in files:\n",
    "    name = f'{DATA_DIR}/marks_{k}_30bin_log.pkl'\n",
    "\n",
    "\n",
    "    # with open(savename, 'wb') as fp:    \n",
    "    #     pickle.dump(df_marks, fp)\n",
    "\n",
    "    marks_dict[k] = "
   ]
  },
  {
   "cell_type": "code",
   "execution_count": null,
   "metadata": {},
   "outputs": [],
   "source": [
    "# (optional) 1. нарисуем точки, в которых мышь останавливалась\n",
    "for k, df in dfs_dict.items():\n",
    "    plt.figure(figsize=(3, 3))\n",
    "    plt.title(k)\n",
    "    for ldf in df:\n",
    "        n_ldf = ldf.loc[ldf['movement']=='Stop']\n",
    "        plt.scatter(n_ldf['x'], n_ldf['y'], s=1)\n",
    "    plt.show()\n"
   ]
  },
  {
   "cell_type": "code",
   "execution_count": null,
   "metadata": {},
   "outputs": [],
   "source": [
    "# Convex Hull arount clusters - mark area\n",
    "# ...\n",
    "\n",
    "# per cent of mark area / all area\n",
    "# ...\n",
    "\n",
    "# some nominal wall, corner, center division of marks\n",
    "# ..."
   ]
  },
  {
   "cell_type": "code",
   "execution_count": null,
   "metadata": {},
   "outputs": [],
   "source": [
    "# add radius to mark area\n"
   ]
  },
  {
   "cell_type": "code",
   "execution_count": null,
   "metadata": {},
   "outputs": [],
   "source": []
  },
  {
   "cell_type": "code",
   "execution_count": null,
   "metadata": {},
   "outputs": [],
   "source": []
  },
  {
   "cell_type": "code",
   "execution_count": null,
   "metadata": {},
   "outputs": [],
   "source": []
  },
  {
   "cell_type": "code",
   "execution_count": null,
   "metadata": {},
   "outputs": [],
   "source": []
  }
 ],
 "metadata": {
  "kernelspec": {
   "display_name": "micerun2",
   "language": "python",
   "name": "python3"
  },
  "language_info": {
   "codemirror_mode": {
    "name": "ipython",
    "version": 3
   },
   "file_extension": ".py",
   "mimetype": "text/x-python",
   "name": "python",
   "nbconvert_exporter": "python",
   "pygments_lexer": "ipython3",
   "version": "3.9.18"
  }
 },
 "nbformat": 4,
 "nbformat_minor": 2
}
